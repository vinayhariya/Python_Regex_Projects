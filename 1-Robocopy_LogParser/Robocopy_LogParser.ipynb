{
 "cells": [
  {
   "cell_type": "code",
   "execution_count": 1,
   "id": "8ade9d0b",
   "metadata": {},
   "outputs": [],
   "source": [
    "import json\n",
    "import time\n",
    "import re"
   ]
  },
  {
   "cell_type": "code",
   "execution_count": 2,
   "id": "b955f8c0",
   "metadata": {},
   "outputs": [],
   "source": [
    "fpath_valid = 'rocopylog.txt'\n",
    "fpath_invalid = 'rocopylog_invalid_source.txt'"
   ]
  },
  {
   "cell_type": "code",
   "execution_count": 3,
   "id": "c366d934",
   "metadata": {},
   "outputs": [],
   "source": [
    "class MetricsLog:\n",
    "    '''\n",
    "    Used for capturing the basic Metric Log information from the Windows Robocopy Log file.\\n\n",
    "    Returns the directory names, timestamps, table entries, speeds.\\n\n",
    "    If error exists, then returns an error message.\\n\n",
    "    '''   \n",
    "    def __init__(self, filePath):\n",
    "        self.__log_filePath = filePath\n",
    "        self.__directory = []\n",
    "        self.__ts = []\n",
    "        self.__entries = []\n",
    "        self.__speed = []\n",
    "        self.__error = False\n",
    "        self.__error_message = []\n",
    "        \n",
    "        # above are all the variables to store the data extracted by using the below regular expressions in the createMetric function\n",
    "        \n",
    "        self.__DIR_NAME_RE = re.compile(r\"\\b(?P<type>Source|Dest)\\s+:\\s+(?P<path>.+)\")\n",
    "        self.__SPEED_RE = re.compile(r\"\\b(?:Speed)\\s+:\\s+(?P<amount>\\d+.?\\d*)\\s+(?P<unit>.*)\")\n",
    "        self.__TIMESTAMP_RE = re.compile(r\"\\b(?P<type>Started|Ended)\\s+:\\s+(?P<DayName>\\w+),\\s+(?P<Month>\\w+)\\s+(?P<Day>\\d+),\\s+(?P<Year>\\d{4})\\s+(?P<Hour>\\d+):(?P<Minute>\\d+):(?P<Second>\\d+)\\s+\\b(?P<Noon>\\w+)\\b\")\n",
    "        self.__TABLE_ENTRIES_RE = re.compile(r\"\\b(?P<type>Dirs|Files|Bytes)\\s+:\\s+(?P<Total>\\d+)\\s+(?P<Copied>\\d+)\\s+(?P<Skipped>\\d+)\\s+(?P<Mismatch>\\d+)\\s+(?P<FAILED>\\d+)\\s+(?P<Extras>\\d+)\")\n",
    "        self.__ERROR_RE = re.compile(r\"\\b(?P<Year>\\d{4})/(?P<Month>\\d{2})/(?P<Day>\\d{2})\\s+(?P<Hour>\\d{2}):(?P<Minute>\\d{2}):(?P<Second>\\d{2})\\s+ERROR\\s+(?P<Error>.+)\")\n",
    "        \n",
    "    \n",
    "    def createMetric(self): # to read the file and apply the re functions (can be used independent of the main function) \n",
    "        with open(self.__log_filePath, 'r', encoding='utf-8') as file:\n",
    "            for line in file: # going through one line at a time\n",
    "                match = self.__DIR_NAME_RE.search(line)\n",
    "\n",
    "                if match: # if a directory location is found\n",
    "                    self.__directory.append(match.groupdict())\n",
    "                    continue\n",
    "\n",
    "                match = self.__SPEED_RE.search(line)\n",
    "\n",
    "                if match: # is speed pattern is found\n",
    "                    self.__speed.append(match.groupdict())\n",
    "                    continue\n",
    "\n",
    "                match = self.__TIMESTAMP_RE.search(line)\n",
    "\n",
    "                if match: # if start or end timestamp is found\n",
    "                    temp = match.groupdict()\n",
    "                    year, month, day = temp.pop('Year'), temp.pop('Month'), temp.pop('Day')\n",
    "                    hour, minute, second, noon = temp.pop('Hour'), temp.pop('Minute'), temp.pop('Second'), temp.pop('Noon')\n",
    "                    temp['date'] = f'{year}-{month}-{day}'\n",
    "                    temp['time'] = f'{hour}:{minute}:{second} {noon}'\n",
    "                    self.__ts.append(temp)\n",
    "                    continue\n",
    "\n",
    "                match = self.__TABLE_ENTRIES_RE.search(line)\n",
    "\n",
    "                if match: # if entires of the table are found\n",
    "                    self.__entries.append(match.groupdict())\n",
    "                    continue\n",
    "\n",
    "                match = self.__ERROR_RE.search(line)\n",
    "\n",
    "                if match: # if error is found\n",
    "                    self.__error = True\n",
    "                    temp = match.groupdict()\n",
    "                    year, month, day = temp.pop('Year'), temp.pop('Month'), temp.pop('Day')\n",
    "                    hour, minute, second = temp.pop('Hour'), temp.pop('Minute'), temp.pop('Second')\n",
    "                    temp['date'] = f'{year}-{month}-{day}'\n",
    "                    temp['time'] = f'{hour}:{minute}:{second}'\n",
    "                    self.__error_message.append(temp)\n",
    "                    continue\n",
    "    \n",
    "    \n",
    "    def __calcTime(function): # used for decorating the function for calculating the time taken\n",
    "        def wrapper(self):\n",
    "            start_time = time.time()\n",
    "            function(self)\n",
    "            end_time = time.time()\n",
    "            return f'Time taken = {(end_time - start_time):0.6f} seconds'\n",
    "        return wrapper\n",
    "    \n",
    "    \n",
    "    @__calcTime\n",
    "    def main(self): # main function to be run in the class\n",
    "        return self.createMetric()\n",
    "    \n",
    "    def resultDictionary(self): # return dictionary of all the details gathered\n",
    "        return {\n",
    "            'File Path' : self.__log_filePath,\n",
    "            'Directory' : self.__directory,\n",
    "            'Time Stamp' : self.__ts,\n",
    "            'Table Entries' : self.__entries,\n",
    "            'Speed' : self.__speed,\n",
    "            'Error' : self.__error,\n",
    "            'Error Message' : self.__error_message\n",
    "        }\n",
    "    \n",
    "    def resultJSON(self):\n",
    "        fileName = self.__log_filePath.split('/')[-1].split('.')[0] + '.json'\n",
    "        with open(fileName, 'w', encoding = 'utf-8') as writeFile:\n",
    "            json.dump(self.resultDictionary(), writeFile, ensure_ascii=False, indent = 4)\n",
    "        print('JSON file created')"
   ]
  },
  {
   "cell_type": "code",
   "execution_count": 4,
   "id": "4686cb95",
   "metadata": {},
   "outputs": [
    {
     "name": "stdout",
     "output_type": "stream",
     "text": [
      "Time taken = 0.002297 seconds\n",
      "\n",
      "JSON file created\n"
     ]
    }
   ],
   "source": [
    "a = MetricsLog(fpath_valid)\n",
    "print(a.main())\n",
    "print()\n",
    "a.resultJSON()"
   ]
  },
  {
   "cell_type": "code",
   "execution_count": 5,
   "id": "05fdd9a8",
   "metadata": {
    "scrolled": false
   },
   "outputs": [
    {
     "name": "stdout",
     "output_type": "stream",
     "text": [
      "Time taken = 0.001997 seconds\n",
      "\n",
      "JSON file created\n"
     ]
    }
   ],
   "source": [
    "b = MetricsLog(fpath_invalid)\n",
    "print(b.main())\n",
    "print()\n",
    "b.resultJSON()"
   ]
  }
 ],
 "metadata": {
  "kernelspec": {
   "display_name": "Python 3",
   "language": "python",
   "name": "python3"
  },
  "language_info": {
   "codemirror_mode": {
    "name": "ipython",
    "version": 3
   },
   "file_extension": ".py",
   "mimetype": "text/x-python",
   "name": "python",
   "nbconvert_exporter": "python",
   "pygments_lexer": "ipython3",
   "version": "3.8.5"
  }
 },
 "nbformat": 4,
 "nbformat_minor": 5
}

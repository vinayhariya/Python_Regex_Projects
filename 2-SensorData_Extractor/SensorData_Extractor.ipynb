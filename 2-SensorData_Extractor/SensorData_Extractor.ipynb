{
 "cells": [
  {
   "cell_type": "code",
   "execution_count": 5,
   "id": "66552caf",
   "metadata": {},
   "outputs": [],
   "source": [
    "import json\n",
    "import re\n",
    "import time"
   ]
  },
  {
   "cell_type": "code",
   "execution_count": 6,
   "id": "d5741697",
   "metadata": {},
   "outputs": [],
   "source": [
    "fpath_small = 'sensordata_small.txt'\n",
    "fpath_7 = 'sensordata_7days.txt'\n",
    "fpath_365 = 'sensordata_365.txt'"
   ]
  },
  {
   "cell_type": "code",
   "execution_count": 7,
   "id": "bd36d062",
   "metadata": {},
   "outputs": [],
   "source": [
    "class SensorData:\n",
    "    '''\n",
    "    Used for extracting the date of the collection of the data points.\\n\n",
    "    The data points consists of\n",
    "    - Temperature (in degree Fahrenheit)\n",
    "    - Humidity (in %)\n",
    "    '''\n",
    "    def __init__(self, filePath):\n",
    "        self.__data_filePath = filePath\n",
    "        self.__sensor_records = []\n",
    "        \n",
    "        # below are the regular expressions used in the parseData function\n",
    "        \n",
    "        self.__DATE_RE = re.compile(r\"(?P<year>\\d{4})(?P<month>\\d{2})(?P<day>\\d{2})\")\n",
    "        self.__VALUE_RE = re.compile(r\"(?P<temperature>\\d{4}|NNNN)(?P<humidity>\\d{3}|NNN)\")\n",
    "        \n",
    "        \n",
    "    def parseData(self):\n",
    "        with open(self.__data_filePath, 'r', encoding = 'utf-8') as file:\n",
    "            for line in file: #going through each line one at a time\n",
    "                tempDict = {}\n",
    "\n",
    "                match = self.__DATE_RE.search(line) # extrcating the date from the line\n",
    "\n",
    "                if match:                    \n",
    "                    t = match.groupdict()\n",
    "                    year, month, day = t['year'], t['month'], t['day']\n",
    "                    tempDict['date'] = f'{year}-{month}-{day}'\n",
    "                    # converting date in a universal format\n",
    "\n",
    "                match = self.__VALUE_RE.finditer(line, len(match.group(0)))\n",
    "\n",
    "                for m in match: # iterator for extracting each set of temp-humidity values\n",
    "                    \n",
    "                    for key, value in m.groupdict().items():\n",
    "                        try:\n",
    "                            value = int(value)\n",
    "                            \n",
    "                            if key == 'temperature':\n",
    "                                value /= 10 \n",
    "                            elif key == 'humidity':\n",
    "                                value /= 100\n",
    "\n",
    "                            # converted into the proper values\n",
    "                        except: # if N is encounted\n",
    "                            value = None\n",
    "                        tempDict[key] = tempDict.get(key, []) + [value]\n",
    "                    \n",
    "                self.__sensor_records.append(tempDict)\n",
    "   \n",
    "\n",
    "    def __calcTime(function): # used for decorating the function for calculating the time taken\n",
    "        def wrapper(self):\n",
    "            start_time = time.time()\n",
    "            function(self)\n",
    "            end_time = time.time()\n",
    "            return f'Time taken = {(end_time - start_time):0.6f} seconds'\n",
    "        return wrapper\n",
    "    \n",
    "    \n",
    "    def saveDataJSON(self):\n",
    "        fileName = self.__data_filePath.split('/')[-1].split('.')[0] + '.json'\n",
    "        \n",
    "        with open(fileName, 'w', encoding = 'utf-8') as writeFile:\n",
    "            json.dump(self.__sensor_records, writeFile, ensure_ascii=False)\n",
    "        print('JSON file created')\n",
    "    \n",
    "    @__calcTime\n",
    "    def main(self): # main function to be run in the class\n",
    "        return self.parseData()"
   ]
  },
  {
   "cell_type": "code",
   "execution_count": 8,
   "id": "863171ec",
   "metadata": {},
   "outputs": [
    {
     "name": "stdout",
     "output_type": "stream",
     "text": [
      "Time taken = 0.009648 seconds\n",
      "JSON file created\n"
     ]
    }
   ],
   "source": [
    "a = SensorData(fpath_small)\n",
    "print(a.main())\n",
    "a.saveDataJSON()"
   ]
  },
  {
   "cell_type": "code",
   "execution_count": 9,
   "id": "ea290270",
   "metadata": {},
   "outputs": [
    {
     "name": "stdout",
     "output_type": "stream",
     "text": [
      "Time taken = 0.266728 seconds\n",
      "JSON file created\n"
     ]
    }
   ],
   "source": [
    "b = SensorData(fpath_7)\n",
    "print(b.main())\n",
    "b.saveDataJSON()"
   ]
  },
  {
   "cell_type": "code",
   "execution_count": 10,
   "id": "b6030b99",
   "metadata": {},
   "outputs": [
    {
     "name": "stdout",
     "output_type": "stream",
     "text": [
      "Time taken = 11.536819 seconds\n",
      "JSON file created\n"
     ]
    }
   ],
   "source": [
    "c = SensorData(fpath_365)\n",
    "print(c.main())\n",
    "c.saveDataJSON()"
   ]
  }
 ],
 "metadata": {
  "kernelspec": {
   "display_name": "Python 3",
   "language": "python",
   "name": "python3"
  },
  "language_info": {
   "codemirror_mode": {
    "name": "ipython",
    "version": 3
   },
   "file_extension": ".py",
   "mimetype": "text/x-python",
   "name": "python",
   "nbconvert_exporter": "python",
   "pygments_lexer": "ipython3",
   "version": "3.8.5"
  }
 },
 "nbformat": 4,
 "nbformat_minor": 5
}

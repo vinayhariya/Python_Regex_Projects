{
 "cells": [
  {
   "cell_type": "code",
   "execution_count": 1,
   "id": "724a8a34",
   "metadata": {},
   "outputs": [],
   "source": [
    "import re\n",
    "import time"
   ]
  },
  {
   "cell_type": "code",
   "execution_count": 2,
   "id": "d322e6e9",
   "metadata": {},
   "outputs": [],
   "source": [
    "fpath_lab = 'labresults.html'\n",
    "fpath_prob = 'problems.html'"
   ]
  },
  {
   "cell_type": "code",
   "execution_count": 3,
   "id": "fa3af7ff",
   "metadata": {},
   "outputs": [],
   "source": [
    "class TableConvertor:\n",
    "    '''\n",
    "    Used for converting the HTML table into CSV format.\\n\n",
    "    '''  \n",
    "    def __init__(self, filePath):\n",
    "        self.__htmlFilePath = filePath\n",
    "        \n",
    "        # below are the regular expressions used in the convert function\n",
    "\n",
    "        self.__CLEAN_RE = re.compile(r\"\\s+|&#160;\")\n",
    "        self.__ROW_RE = re.compile(r\"(?:<tr\\s*/>)|(?:<tr\\b[^>]*>(?P<row>.+?)</tr>)\")\n",
    "        self.__CELL_RE = re.compile(r\"(?:<(th|td)\\s*/>)|(?:<(?P<element>th|td)\\b[^>]*>(?P<col>.+?)</(?P=element)>)\")\n",
    "        \n",
    "    def __calcTime(function): # used for decorating the function for calculating the time taken\n",
    "        def wrapper(self):\n",
    "            start_time = time.time()\n",
    "            function(self)\n",
    "            end_time = time.time()\n",
    "            return f'Time taken = {(end_time - start_time):0.6f} seconds'\n",
    "        return wrapper\n",
    "        \n",
    "    @__calcTime\n",
    "    def convert(self):\n",
    "        html_content = open(self.__htmlFilePath, 'r', encoding = 'utf-8').read()\n",
    "        html_content = self.__CLEAN_RE.sub(' ', html_content)\n",
    "        # removing all the whitespaces (newline) and the unicode for space\n",
    "        \n",
    "        fileName = self.__htmlFilePath.split('/')[-1].split('.')[0] + '.csv' # creating file name\n",
    "\n",
    "        with open(fileName, 'w', encoding = 'utf-8') as writeFile:\n",
    "\n",
    "            row_iter = self.__ROW_RE.finditer(html_content)\n",
    "\n",
    "            for row in row_iter: # each row of table data\n",
    "\n",
    "                if row.group('row'):\n",
    "                    col_iter = self.__CELL_RE.finditer(row.group('row'))\n",
    "\n",
    "                    line = []\n",
    "\n",
    "                    for col in col_iter: # each cell of the row\n",
    "                        if col.group('col'):\n",
    "                            line.append(col.group('col').replace(',', ''))\n",
    "                        else:\n",
    "                            line.append(' ')\n",
    "\n",
    "                    writeFile.write(','.join(line)) # used for CSV format\n",
    "                    writeFile.write('\\n')\n",
    "\n",
    "            print('CSV file created')"
   ]
  },
  {
   "cell_type": "code",
   "execution_count": 4,
   "id": "9424dc9a",
   "metadata": {},
   "outputs": [
    {
     "name": "stdout",
     "output_type": "stream",
     "text": [
      "CSV file created\n"
     ]
    },
    {
     "data": {
      "text/plain": [
       "'Time taken = 0.005634 seconds'"
      ]
     },
     "execution_count": 4,
     "metadata": {},
     "output_type": "execute_result"
    }
   ],
   "source": [
    "a = TableConvertor(fpath_lab)\n",
    "a.convert()"
   ]
  },
  {
   "cell_type": "code",
   "execution_count": 5,
   "id": "439a7d3f",
   "metadata": {},
   "outputs": [
    {
     "name": "stdout",
     "output_type": "stream",
     "text": [
      "CSV file created\n"
     ]
    },
    {
     "data": {
      "text/plain": [
       "'Time taken = 0.004054 seconds'"
      ]
     },
     "execution_count": 5,
     "metadata": {},
     "output_type": "execute_result"
    }
   ],
   "source": [
    "b = TableConvertor(fpath_prob)\n",
    "b.convert()"
   ]
  }
 ],
 "metadata": {
  "kernelspec": {
   "display_name": "Python 3",
   "language": "python",
   "name": "python3"
  },
  "language_info": {
   "codemirror_mode": {
    "name": "ipython",
    "version": 3
   },
   "file_extension": ".py",
   "mimetype": "text/x-python",
   "name": "python",
   "nbconvert_exporter": "python",
   "pygments_lexer": "ipython3",
   "version": "3.8.5"
  }
 },
 "nbformat": 4,
 "nbformat_minor": 5
}
